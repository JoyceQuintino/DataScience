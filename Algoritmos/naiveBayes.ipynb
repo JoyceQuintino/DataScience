{
 "cells": [
  {
   "cell_type": "code",
   "execution_count": 45,
   "metadata": {},
   "outputs": [],
   "source": [
    "import seaborn as sb\n",
    "import numpy as np\n",
    "import math\n",
    "from collections import Counter"
   ]
  },
  {
   "cell_type": "code",
   "execution_count": 46,
   "metadata": {},
   "outputs": [
    {
     "name": "stderr",
     "output_type": "stream",
     "text": [
      "c:\\users\\joyce\\documents\\joyce\\machinelearningenv\\lib\\site-packages\\seaborn\\utils.py:376: UserWarning: No parser was explicitly specified, so I'm using the best available HTML parser for this system (\"html5lib\"). This usually isn't a problem, but if you run this code on another system, or in a different virtual environment, it may use a different parser and behave differently.\n",
      "\n",
      "The code that caused this warning is on line 376 of the file c:\\users\\joyce\\documents\\joyce\\machinelearningenv\\lib\\site-packages\\seaborn\\utils.py. To get rid of this warning, pass the additional argument 'features=\"html5lib\"' to the BeautifulSoup constructor.\n",
      "\n",
      "  gh_list = BeautifulSoup(http)\n"
     ]
    }
   ],
   "source": [
    "sb.get_dataset_names()\n",
    "data = sb.load_dataset('exercise')"
   ]
  },
  {
   "cell_type": "code",
   "execution_count": 47,
   "metadata": {},
   "outputs": [
    {
     "name": "stdout",
     "output_type": "stream",
     "text": [
      "    Unnamed: 0  id     diet  pulse    time     kind\n",
      "0            0   1  low fat     85   1 min     rest\n",
      "1            1   1  low fat     85  15 min     rest\n",
      "2            2   1  low fat     88  30 min     rest\n",
      "3            3   2  low fat     90   1 min     rest\n",
      "4            4   2  low fat     92  15 min     rest\n",
      "5            5   2  low fat     93  30 min     rest\n",
      "6            6   3  low fat     97   1 min     rest\n",
      "7            7   3  low fat     97  15 min     rest\n",
      "8            8   3  low fat     94  30 min     rest\n",
      "9            9   4  low fat     80   1 min     rest\n",
      "10          10   4  low fat     82  15 min     rest\n",
      "11          11   4  low fat     83  30 min     rest\n",
      "12          12   5  low fat     91   1 min     rest\n",
      "13          13   5  low fat     92  15 min     rest\n",
      "14          14   5  low fat     91  30 min     rest\n",
      "15          15   6   no fat     83   1 min     rest\n",
      "16          16   6   no fat     83  15 min     rest\n",
      "17          17   6   no fat     84  30 min     rest\n",
      "18          18   7   no fat     87   1 min     rest\n",
      "19          19   7   no fat     88  15 min     rest\n",
      "20          20   7   no fat     90  30 min     rest\n",
      "21          21   8   no fat     92   1 min     rest\n",
      "22          22   8   no fat     94  15 min     rest\n",
      "23          23   8   no fat     95  30 min     rest\n",
      "24          24   9   no fat     97   1 min     rest\n",
      "25          25   9   no fat     99  15 min     rest\n",
      "26          26   9   no fat     96  30 min     rest\n",
      "27          27  10   no fat    100   1 min     rest\n",
      "28          28  10   no fat     97  15 min     rest\n",
      "29          29  10   no fat    100  30 min     rest\n",
      "..         ...  ..      ...    ...     ...      ...\n",
      "60          60  21  low fat     93   1 min  running\n",
      "61          61  21  low fat     98  15 min  running\n",
      "62          62  21  low fat    110  30 min  running\n",
      "63          63  22  low fat     98   1 min  running\n",
      "64          64  22  low fat    104  15 min  running\n",
      "65          65  22  low fat    112  30 min  running\n",
      "66          66  23  low fat     98   1 min  running\n",
      "67          67  23  low fat    105  15 min  running\n",
      "68          68  23  low fat     99  30 min  running\n",
      "69          69  24  low fat     87   1 min  running\n",
      "70          70  24  low fat    132  15 min  running\n",
      "71          71  24  low fat    120  30 min  running\n",
      "72          72  25  low fat     94   1 min  running\n",
      "73          73  25  low fat    110  15 min  running\n",
      "74          74  25  low fat    116  30 min  running\n",
      "75          75  26   no fat     95   1 min  running\n",
      "76          76  26   no fat    126  15 min  running\n",
      "77          77  26   no fat    143  30 min  running\n",
      "78          78  27   no fat    100   1 min  running\n",
      "79          79  27   no fat    126  15 min  running\n",
      "80          80  27   no fat    140  30 min  running\n",
      "81          81  28   no fat    103   1 min  running\n",
      "82          82  28   no fat    124  15 min  running\n",
      "83          83  28   no fat    140  30 min  running\n",
      "84          84  29   no fat     94   1 min  running\n",
      "85          85  29   no fat    135  15 min  running\n",
      "86          86  29   no fat    130  30 min  running\n",
      "87          87  30   no fat     99   1 min  running\n",
      "88          88  30   no fat    111  15 min  running\n",
      "89          89  30   no fat    150  30 min  running\n",
      "\n",
      "[90 rows x 6 columns]\n"
     ]
    }
   ],
   "source": [
    "print(data)"
   ]
  },
  {
   "cell_type": "code",
   "execution_count": 48,
   "metadata": {},
   "outputs": [
    {
     "data": {
      "text/plain": [
       "pandas.core.frame.DataFrame"
      ]
     },
     "execution_count": 48,
     "metadata": {},
     "output_type": "execute_result"
    }
   ],
   "source": [
    "type(data)"
   ]
  },
  {
   "cell_type": "code",
   "execution_count": 49,
   "metadata": {},
   "outputs": [],
   "source": [
    "previsores = data.iloc[:,2:5].values\n",
    "classe = data.iloc[:,5].values"
   ]
  },
  {
   "cell_type": "code",
   "execution_count": 50,
   "metadata": {},
   "outputs": [
    {
     "name": "stdout",
     "output_type": "stream",
     "text": [
      "[['low fat' 85 '1 min']\n",
      " ['low fat' 85 '15 min']\n",
      " ['low fat' 88 '30 min']\n",
      " ['low fat' 90 '1 min']\n",
      " ['low fat' 92 '15 min']\n",
      " ['low fat' 93 '30 min']\n",
      " ['low fat' 97 '1 min']\n",
      " ['low fat' 97 '15 min']\n",
      " ['low fat' 94 '30 min']\n",
      " ['low fat' 80 '1 min']\n",
      " ['low fat' 82 '15 min']\n",
      " ['low fat' 83 '30 min']\n",
      " ['low fat' 91 '1 min']\n",
      " ['low fat' 92 '15 min']\n",
      " ['low fat' 91 '30 min']\n",
      " ['no fat' 83 '1 min']\n",
      " ['no fat' 83 '15 min']\n",
      " ['no fat' 84 '30 min']\n",
      " ['no fat' 87 '1 min']\n",
      " ['no fat' 88 '15 min']\n",
      " ['no fat' 90 '30 min']\n",
      " ['no fat' 92 '1 min']\n",
      " ['no fat' 94 '15 min']\n",
      " ['no fat' 95 '30 min']\n",
      " ['no fat' 97 '1 min']\n",
      " ['no fat' 99 '15 min']\n",
      " ['no fat' 96 '30 min']\n",
      " ['no fat' 100 '1 min']\n",
      " ['no fat' 97 '15 min']\n",
      " ['no fat' 100 '30 min']\n",
      " ['low fat' 86 '1 min']\n",
      " ['low fat' 86 '15 min']\n",
      " ['low fat' 84 '30 min']\n",
      " ['low fat' 93 '1 min']\n",
      " ['low fat' 103 '15 min']\n",
      " ['low fat' 104 '30 min']\n",
      " ['low fat' 90 '1 min']\n",
      " ['low fat' 92 '15 min']\n",
      " ['low fat' 93 '30 min']\n",
      " ['low fat' 95 '1 min']\n",
      " ['low fat' 96 '15 min']\n",
      " ['low fat' 100 '30 min']\n",
      " ['low fat' 89 '1 min']\n",
      " ['low fat' 96 '15 min']\n",
      " ['low fat' 95 '30 min']\n",
      " ['no fat' 84 '1 min']\n",
      " ['no fat' 86 '15 min']\n",
      " ['no fat' 89 '30 min']\n",
      " ['no fat' 103 '1 min']\n",
      " ['no fat' 109 '15 min']\n",
      " ['no fat' 90 '30 min']\n",
      " ['no fat' 92 '1 min']\n",
      " ['no fat' 96 '15 min']\n",
      " ['no fat' 101 '30 min']\n",
      " ['no fat' 97 '1 min']\n",
      " ['no fat' 98 '15 min']\n",
      " ['no fat' 100 '30 min']\n",
      " ['no fat' 102 '1 min']\n",
      " ['no fat' 104 '15 min']\n",
      " ['no fat' 103 '30 min']\n",
      " ['low fat' 93 '1 min']\n",
      " ['low fat' 98 '15 min']\n",
      " ['low fat' 110 '30 min']\n",
      " ['low fat' 98 '1 min']\n",
      " ['low fat' 104 '15 min']\n",
      " ['low fat' 112 '30 min']\n",
      " ['low fat' 98 '1 min']\n",
      " ['low fat' 105 '15 min']\n",
      " ['low fat' 99 '30 min']\n",
      " ['low fat' 87 '1 min']\n",
      " ['low fat' 132 '15 min']\n",
      " ['low fat' 120 '30 min']\n",
      " ['low fat' 94 '1 min']\n",
      " ['low fat' 110 '15 min']\n",
      " ['low fat' 116 '30 min']\n",
      " ['no fat' 95 '1 min']\n",
      " ['no fat' 126 '15 min']\n",
      " ['no fat' 143 '30 min']\n",
      " ['no fat' 100 '1 min']\n",
      " ['no fat' 126 '15 min']\n",
      " ['no fat' 140 '30 min']\n",
      " ['no fat' 103 '1 min']\n",
      " ['no fat' 124 '15 min']\n",
      " ['no fat' 140 '30 min']\n",
      " ['no fat' 94 '1 min']\n",
      " ['no fat' 135 '15 min']\n",
      " ['no fat' 130 '30 min']\n",
      " ['no fat' 99 '1 min']\n",
      " ['no fat' 111 '15 min']\n",
      " ['no fat' 150 '30 min']]\n"
     ]
    }
   ],
   "source": [
    "print(previsores)"
   ]
  },
  {
   "cell_type": "code",
   "execution_count": 51,
   "metadata": {},
   "outputs": [
    {
     "name": "stdout",
     "output_type": "stream",
     "text": [
      "[rest, rest, rest, rest, rest, ..., running, running, running, running, running]\n",
      "Length: 90\n",
      "Categories (3, object): [rest, walking, running]\n"
     ]
    }
   ],
   "source": [
    "print(classe)"
   ]
  },
  {
   "cell_type": "code",
   "execution_count": 96,
   "metadata": {},
   "outputs": [],
   "source": [
    "#exploração de dados"
   ]
  },
  {
   "cell_type": "code",
   "execution_count": null,
   "metadata": {},
   "outputs": [],
   "source": []
  },
  {
   "cell_type": "code",
   "execution_count": 54,
   "metadata": {},
   "outputs": [],
   "source": [
    "# quantidade de valores por classe"
   ]
  },
  {
   "cell_type": "code",
   "execution_count": 55,
   "metadata": {},
   "outputs": [
    {
     "name": "stdout",
     "output_type": "stream",
     "text": [
      "30\n",
      "30\n",
      "30\n"
     ]
    }
   ],
   "source": [
    "contRest, contWalk, contRun = 0,0,0\n",
    "m = np.array(classe)\n",
    "for x in range(0, len(m)):\n",
    "    if m[x] == 'rest':\n",
    "        contRest += 1\n",
    "    if m[x] == 'walking':\n",
    "        contWalk += 1\n",
    "    if m[x] == 'running':\n",
    "        contRun += 1\n",
    "print(contRest)\n",
    "print(contWalk)\n",
    "print(contRun)"
   ]
  },
  {
   "cell_type": "code",
   "execution_count": 56,
   "metadata": {},
   "outputs": [],
   "source": [
    "#probabilidade Apriori de cada classe"
   ]
  },
  {
   "cell_type": "code",
   "execution_count": 57,
   "metadata": {},
   "outputs": [
    {
     "name": "stdout",
     "output_type": "stream",
     "text": [
      "0.3333333333333333\n",
      "0.3333333333333333\n",
      "0.3333333333333333\n"
     ]
    }
   ],
   "source": [
    "probRest = contRest/len(m)\n",
    "probWalk = contWalk/len(m)\n",
    "probRun = contRun/len(m)\n",
    "\n",
    "print(probRest)\n",
    "print(probWalk)\n",
    "print(probRun)"
   ]
  },
  {
   "cell_type": "code",
   "execution_count": 61,
   "metadata": {},
   "outputs": [],
   "source": [
    "# cálcula frequência dada classe"
   ]
  },
  {
   "cell_type": "code",
   "execution_count": 78,
   "metadata": {},
   "outputs": [],
   "source": [
    "dataset = data.iloc[:,2:6].values\n",
    "\n",
    "def countByClass(pred,clas,pos):\n",
    "    count = 0\n",
    "    for k in range(0, len(dataset)):\n",
    "        line = dataset[k]\n",
    "        if line[pos] == pred and line[3] == clas:\n",
    "            count+=1\n",
    "    return count"
   ]
  },
  {
   "cell_type": "code",
   "execution_count": 79,
   "metadata": {},
   "outputs": [
    {
     "name": "stdout",
     "output_type": "stream",
     "text": [
      "low fat - rest:  50.0 %\n",
      "no fat - rest:  50.0 %\n",
      "low fat - walking:  50.0 %\n",
      "no fat - walking:  50.0 %\n",
      "low fat - running:  50.0 %\n",
      "no fat - running:  50.0 %\n"
     ]
    }
   ],
   "source": [
    "# Probabilidade Condicional do atributo diet\n",
    "print(\"low fat - rest: \", countByClass(\"low fat\", \"rest\", 0)/contRest*100,\"%\")\n",
    "print(\"no fat - rest: \", countByClass(\"no fat\", \"rest\", 0)/contRest*100,\"%\")\n",
    "print(\"low fat - walking: \", countByClass(\"low fat\", \"walking\", 0)/contWalk*100,\"%\")\n",
    "print(\"no fat - walking: \", countByClass(\"no fat\", \"walking\", 0)/contWalk*100,\"%\")\n",
    "print(\"low fat - running: \", countByClass(\"low fat\", \"running\", 0)/contRun*100,\"%\")\n",
    "print(\"no fat - running: \", countByClass(\"no fat\", \"running\", 0)/contRun*100,\"%\")"
   ]
  },
  {
   "cell_type": "code",
   "execution_count": 80,
   "metadata": {},
   "outputs": [
    {
     "name": "stdout",
     "output_type": "stream",
     "text": [
      "1 min - rest:  33.33333333333333 %\n",
      "15 min - rest:  33.33333333333333 %\n",
      "30 min - rest:  33.33333333333333 %\n",
      "1 min - walking:  33.33333333333333 %\n",
      "15 min - walking:  33.33333333333333 %\n",
      "30 min - walking:  33.33333333333333 %\n",
      "1 min - running:  33.33333333333333 %\n",
      "15 min - running:  33.33333333333333 %\n",
      "30 min - running:  33.33333333333333 %\n"
     ]
    }
   ],
   "source": [
    "# Probabilidade Condicional do atributo time\n",
    "print(\"1 min - rest: \", countByClass(\"1 min\", \"rest\", 2)/contRest*100,\"%\")\n",
    "print(\"15 min - rest: \", countByClass(\"15 min\", \"rest\", 2)/contRest*100,\"%\")\n",
    "print(\"30 min - rest: \", countByClass(\"30 min\", \"rest\", 2)/contRest*100,\"%\")\n",
    "print(\"1 min - walking: \", countByClass(\"1 min\", \"walking\", 2)/contWalk*100,\"%\")\n",
    "print(\"15 min - walking: \", countByClass(\"15 min\", \"walking\", 2)/contWalk*100,\"%\")\n",
    "print(\"30 min - walking: \", countByClass(\"30 min\", \"walking\", 2)/contWalk*100,\"%\")\n",
    "print(\"1 min - running: \", countByClass(\"1 min\", \"running\", 2)/contRun*100,\"%\")\n",
    "print(\"15 min - running: \", countByClass(\"15 min\", \"running\", 2)/contRun*100,\"%\")\n",
    "print(\"30 min - running: \", countByClass(\"30 min\", \"running\", 2)/contRun*100,\"%\")"
   ]
  },
  {
   "cell_type": "code",
   "execution_count": null,
   "metadata": {},
   "outputs": [],
   "source": [
    "# tratamento do atributo pulse"
   ]
  },
  {
   "cell_type": "code",
   "execution_count": 89,
   "metadata": {},
   "outputs": [],
   "source": [
    "#média por classe\n",
    "\n",
    "def meanByClass(clas):\n",
    "    count = 0\n",
    "    sun = 0\n",
    "    for i in range(0, len(dataset)):\n",
    "        line = dataset[i]\n",
    "        if line[3] == clas:\n",
    "            count+=1\n",
    "            sun += line[1]\n",
    "    return sun/count"
   ]
  },
  {
   "cell_type": "code",
   "execution_count": 90,
   "metadata": {},
   "outputs": [],
   "source": [
    "#desvio padrão de cada classe\n",
    "\n",
    "def outlinePatern(clas):\n",
    "    count = 0\n",
    "    sun = 0\n",
    "    mean = meanByClass(clas)\n",
    "    for i in range(0, len(dataset)):\n",
    "        line = dataset[i]\n",
    "        if line[3] == clas:\n",
    "            sun += (line[1] - mean)**2\n",
    "            count+=1\n",
    "    return math.sqrt(sun/(count-1))"
   ]
  },
  {
   "cell_type": "code",
   "execution_count": 91,
   "metadata": {},
   "outputs": [
    {
     "name": "stdout",
     "output_type": "stream",
     "text": [
      "Rest:  5.831444686047942\n",
      "Running:  17.62039048714699\n",
      "Walking:  6.779278773561032\n"
     ]
    }
   ],
   "source": [
    "print('Rest: ', outlinePatern('rest'))\n",
    "print('Running: ', outlinePatern('running'))\n",
    "print('Walking: ', outlinePatern('walking'))"
   ]
  },
  {
   "cell_type": "code",
   "execution_count": 53,
   "metadata": {},
   "outputs": [],
   "source": [
    "#gaussiana do atributo pulse"
   ]
  },
  {
   "cell_type": "code",
   "execution_count": 92,
   "metadata": {},
   "outputs": [],
   "source": [
    "def gaussianDeDeus(x, mean, sd):\n",
    "    exponent = math.exp(-(math.pow(x - mean,2)/(2*math.pow(sd,2))))\n",
    "    return (1/(math.sqrt(2*math.pi)*sd))*exponent"
   ]
  },
  {
   "cell_type": "code",
   "execution_count": 93,
   "metadata": {},
   "outputs": [],
   "source": [
    "# teorema de Bayes"
   ]
  },
  {
   "cell_type": "code",
   "execution_count": 94,
   "metadata": {},
   "outputs": [],
   "source": [
    "def naiveBayes(diet, pulse, time):\n",
    "    gaussianRest = gaussianDeDeus(pulse, meanByClass('rest'), outlinePatern('rest'))\n",
    "    gaussianRunning = gaussianDeDeus(pulse, meanByClass('running'), outlinePatern('running'))\n",
    "    gaussianWalking = gaussianDeDeus(pulse, meanByClass('walking'), outlinePatern('walking'))\n",
    "    probDietRest = (countByClass(diet, \"rest\", 0)/contRest)\n",
    "    probDietRunning = (countByClass(diet, \"runing\", 0)/contRun)\n",
    "    probDietWalking = (countByClass(diet, \"walking\", 0)/contWalk)\n",
    "    probTimeRest = (countByClass(time, \"rest\", 2)/contRest)\n",
    "    probTimeRunning = (countByClass(time, \"running\", 2)/contRun)\n",
    "    probTimeWalk = (countByClass(time, \"walking\", 2)/contWalk)\n",
    "    prodRest = probRest * probDietRest * probTimeRest * gaussianRest\n",
    "    prodRunning = probRun * probDietRunning * probTimeRunning * gaussianRunning\n",
    "    prodWalking = probWalk * probDietWalking * probTimeWalk * gaussianWalking\n",
    "    if prodRest > prodRunning:\n",
    "        if prodRest > prodWalking:\n",
    "            return \"rest\"\n",
    "        else:\n",
    "            return \"walking\"\n",
    "    else: \n",
    "        if prodRunning > prodWalking:\n",
    "            return \"running\"\n",
    "        else:\n",
    "            return \"walking\""
   ]
  },
  {
   "cell_type": "code",
   "execution_count": 95,
   "metadata": {},
   "outputs": [
    {
     "data": {
      "text/plain": [
       "'rest'"
      ]
     },
     "execution_count": 95,
     "metadata": {},
     "output_type": "execute_result"
    }
   ],
   "source": [
    "naiveBayes(\"low fat\", 90, \"1 min\")"
   ]
  },
  {
   "cell_type": "code",
   "execution_count": null,
   "metadata": {},
   "outputs": [],
   "source": []
  }
 ],
 "metadata": {
  "kernelspec": {
   "display_name": "Python 3",
   "language": "python",
   "name": "python3"
  },
  "language_info": {
   "codemirror_mode": {
    "name": "ipython",
    "version": 3
   },
   "file_extension": ".py",
   "mimetype": "text/x-python",
   "name": "python",
   "nbconvert_exporter": "python",
   "pygments_lexer": "ipython3",
   "version": "3.6.5"
  }
 },
 "nbformat": 4,
 "nbformat_minor": 2
}
