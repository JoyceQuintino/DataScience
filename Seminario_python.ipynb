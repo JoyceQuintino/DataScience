{
  "nbformat": 4,
  "nbformat_minor": 0,
  "metadata": {
    "colab": {
      "name": "seminario-python.ipynb",
      "provenance": [],
      "authorship_tag": "ABX9TyONuetR3GcTtHjlMRU5116I",
      "include_colab_link": true
    },
    "kernelspec": {
      "name": "python3",
      "display_name": "Python 3"
    },
    "language_info": {
      "name": "python"
    }
  },
  "cells": [
    {
      "cell_type": "markdown",
      "metadata": {
        "id": "view-in-github",
        "colab_type": "text"
      },
      "source": [
        "<a href=\"https://colab.research.google.com/github/JoyceQuintino/DataScienceAlgorithms/blob/master/Seminario_python.ipynb\" target=\"_parent\"><img src=\"https://colab.research.google.com/assets/colab-badge.svg\" alt=\"Open In Colab\"/></a>"
      ]
    },
    {
      "cell_type": "code",
      "metadata": {
        "id": "Ib7GkqX3hPOp"
      },
      "source": [
        "#Variáveis"
      ],
      "execution_count": null,
      "outputs": []
    },
    {
      "cell_type": "code",
      "metadata": {
        "id": "qvysppBYhSjN"
      },
      "source": [
        "a = 10\n",
        "b = 'Joyce'"
      ],
      "execution_count": null,
      "outputs": []
    },
    {
      "cell_type": "code",
      "metadata": {
        "colab": {
          "base_uri": "https://localhost:8080/"
        },
        "id": "Duc08_xGhSxZ",
        "outputId": "153dda84-86d7-4567-b3e8-609c17548899"
      },
      "source": [
        "print('O valor da primeira é', a, 'O valor da segunda é', b)"
      ],
      "execution_count": null,
      "outputs": [
        {
          "output_type": "stream",
          "text": [
            "O valor da primeira é 10 O valor da segunda é Joyce\n"
          ],
          "name": "stdout"
        }
      ]
    },
    {
      "cell_type": "code",
      "metadata": {
        "id": "8W6gFvgJhS4o"
      },
      "source": [
        "#Operadores Aritméticos"
      ],
      "execution_count": null,
      "outputs": []
    },
    {
      "cell_type": "code",
      "metadata": {
        "id": "rUs55iikit1O"
      },
      "source": [
        "c = 20"
      ],
      "execution_count": null,
      "outputs": []
    },
    {
      "cell_type": "code",
      "metadata": {
        "id": "uEAiVExkiuEE"
      },
      "source": [
        "#Operadores de Comparação"
      ],
      "execution_count": null,
      "outputs": []
    },
    {
      "cell_type": "code",
      "metadata": {
        "id": "SjkNgqcIiuOF"
      },
      "source": [
        "num = 2"
      ],
      "execution_count": null,
      "outputs": []
    },
    {
      "cell_type": "code",
      "metadata": {
        "colab": {
          "base_uri": "https://localhost:8080/"
        },
        "id": "Ot71BuezjhPJ",
        "outputId": "8a6aa2b1-7515-41f4-fd1e-5526284b9657"
      },
      "source": [
        "num == 2 "
      ],
      "execution_count": null,
      "outputs": [
        {
          "output_type": "execute_result",
          "data": {
            "text/plain": [
              "True"
            ]
          },
          "metadata": {
            "tags": []
          },
          "execution_count": 23
        }
      ]
    },
    {
      "cell_type": "code",
      "metadata": {
        "colab": {
          "base_uri": "https://localhost:8080/"
        },
        "id": "IAV384YcjhUv",
        "outputId": "0a07c385-1fb3-4243-8a5b-095215247309"
      },
      "source": [
        "num != 2"
      ],
      "execution_count": null,
      "outputs": [
        {
          "output_type": "execute_result",
          "data": {
            "text/plain": [
              "False"
            ]
          },
          "metadata": {
            "tags": []
          },
          "execution_count": 24
        }
      ]
    },
    {
      "cell_type": "code",
      "metadata": {
        "colab": {
          "base_uri": "https://localhost:8080/"
        },
        "id": "SdBiqnyhjhan",
        "outputId": "f44ab55f-4bd0-4419-c3e0-fe0912ebd9cc"
      },
      "source": [
        "num <= 3"
      ],
      "execution_count": null,
      "outputs": [
        {
          "output_type": "execute_result",
          "data": {
            "text/plain": [
              "True"
            ]
          },
          "metadata": {
            "tags": []
          },
          "execution_count": 25
        }
      ]
    },
    {
      "cell_type": "code",
      "metadata": {
        "colab": {
          "base_uri": "https://localhost:8080/"
        },
        "id": "oOSga9j7jhf2",
        "outputId": "3c08b28b-031b-4c8a-8e59-682afbe5024a"
      },
      "source": [
        "num >= 3"
      ],
      "execution_count": null,
      "outputs": [
        {
          "output_type": "execute_result",
          "data": {
            "text/plain": [
              "False"
            ]
          },
          "metadata": {
            "tags": []
          },
          "execution_count": 26
        }
      ]
    },
    {
      "cell_type": "code",
      "metadata": {
        "id": "Na-0zr7NiuVt"
      },
      "source": [
        "#Operadores Lógicos"
      ],
      "execution_count": null,
      "outputs": []
    },
    {
      "cell_type": "code",
      "metadata": {
        "id": "yAibHs5Hj7BI"
      },
      "source": [
        "verdade = True\n",
        "mentira = False"
      ],
      "execution_count": null,
      "outputs": []
    },
    {
      "cell_type": "code",
      "metadata": {
        "colab": {
          "base_uri": "https://localhost:8080/"
        },
        "id": "dDpq7nnYj7HF",
        "outputId": "a214a2fd-d7d9-4219-ea6d-dbc13f6b44a7"
      },
      "source": [
        "verdade and not mentira "
      ],
      "execution_count": null,
      "outputs": [
        {
          "output_type": "execute_result",
          "data": {
            "text/plain": [
              "True"
            ]
          },
          "metadata": {
            "tags": []
          },
          "execution_count": 32
        }
      ]
    },
    {
      "cell_type": "code",
      "metadata": {
        "colab": {
          "base_uri": "https://localhost:8080/"
        },
        "id": "EfLT9lnij7Mt",
        "outputId": "e33d4df4-88ae-4fb0-90e5-5440e6aa7ae1"
      },
      "source": [
        "not verdade and mentira"
      ],
      "execution_count": null,
      "outputs": [
        {
          "output_type": "execute_result",
          "data": {
            "text/plain": [
              "False"
            ]
          },
          "metadata": {
            "tags": []
          },
          "execution_count": 33
        }
      ]
    },
    {
      "cell_type": "code",
      "metadata": {
        "id": "9HsD4WHRj7TT"
      },
      "source": [
        "#Condicionais"
      ],
      "execution_count": null,
      "outputs": []
    },
    {
      "cell_type": "code",
      "metadata": {
        "id": "-uGVs7Evj7Yp"
      },
      "source": [
        "# if, else, elif"
      ],
      "execution_count": null,
      "outputs": []
    },
    {
      "cell_type": "code",
      "metadata": {
        "colab": {
          "base_uri": "https://localhost:8080/"
        },
        "id": "OupfZZR4j7fg",
        "outputId": "2a7cba74-5ee2-448c-ca0b-775827da3fea"
      },
      "source": [
        "if num > 1:\n",
        "  print('ok')\n",
        "elif num < 1:\n",
        "  print('ok2')"
      ],
      "execution_count": null,
      "outputs": [
        {
          "output_type": "stream",
          "text": [
            "ok\n"
          ],
          "name": "stdout"
        }
      ]
    },
    {
      "cell_type": "code",
      "metadata": {
        "id": "BA-AxTM9nL0W"
      },
      "source": [
        "#for, while"
      ],
      "execution_count": null,
      "outputs": []
    },
    {
      "cell_type": "code",
      "metadata": {
        "colab": {
          "base_uri": "https://localhost:8080/"
        },
        "id": "QhBTnaVdnMEJ",
        "outputId": "21604b41-62a6-4c28-f548-14b3ffe90cb7"
      },
      "source": [
        "num = [1,2,3] \n",
        "\n",
        "for i in num:\n",
        "  print(i)"
      ],
      "execution_count": null,
      "outputs": [
        {
          "output_type": "stream",
          "text": [
            "1\n",
            "2\n",
            "3\n"
          ],
          "name": "stdout"
        }
      ]
    },
    {
      "cell_type": "code",
      "metadata": {
        "colab": {
          "base_uri": "https://localhost:8080/"
        },
        "id": "AkVT_o-SnMME",
        "outputId": "93f20d29-3a18-4a35-9af8-efa161bd7a5e"
      },
      "source": [
        "count = 0\n",
        "\n",
        "while(count < 4):\n",
        "  print('Ola')\n",
        "  count += 1"
      ],
      "execution_count": null,
      "outputs": [
        {
          "output_type": "stream",
          "text": [
            "Ola\n",
            "Ola\n",
            "Ola\n",
            "Ola\n"
          ],
          "name": "stdout"
        }
      ]
    },
    {
      "cell_type": "code",
      "metadata": {
        "id": "A3v5PLtPoE-r"
      },
      "source": [
        "#Tuplas \n",
        "#Listas\n",
        "#Dicionários"
      ],
      "execution_count": null,
      "outputs": []
    },
    {
      "cell_type": "code",
      "metadata": {
        "colab": {
          "base_uri": "https://localhost:8080/"
        },
        "id": "2mFz9ZP8oFE-",
        "outputId": "7dda86ee-7159-4225-ce4f-1bda11688413"
      },
      "source": [
        "#Numpy\n",
        "import numpy as np\n",
        "\n",
        "my_array = np.array([3, 4, 5])\n",
        "my_array[1]"
      ],
      "execution_count": null,
      "outputs": [
        {
          "output_type": "execute_result",
          "data": {
            "text/plain": [
              "4"
            ]
          },
          "metadata": {
            "tags": []
          },
          "execution_count": 41
        }
      ]
    },
    {
      "cell_type": "code",
      "metadata": {
        "colab": {
          "base_uri": "https://localhost:8080/"
        },
        "id": "mubYAckco6PC",
        "outputId": "2f6885a9-db7a-4a70-9bb6-140d0d08088e"
      },
      "source": [
        "#Slicing\n",
        "my_array[1:3]"
      ],
      "execution_count": null,
      "outputs": [
        {
          "output_type": "execute_result",
          "data": {
            "text/plain": [
              "array([4, 5])"
            ]
          },
          "metadata": {
            "tags": []
          },
          "execution_count": 43
        }
      ]
    },
    {
      "cell_type": "code",
      "metadata": {
        "colab": {
          "base_uri": "https://localhost:8080/"
        },
        "id": "odXJ-9Z6oFLB",
        "outputId": "cb279c96-15ef-44ea-8483-5ae85dc2f634"
      },
      "source": [
        "array_gerado = np.arange(1,14)\n",
        "array_gerado"
      ],
      "execution_count": null,
      "outputs": [
        {
          "output_type": "execute_result",
          "data": {
            "text/plain": [
              "array([ 1,  2,  3,  4,  5,  6,  7,  8,  9, 10, 11, 12, 13])"
            ]
          },
          "metadata": {
            "tags": []
          },
          "execution_count": 46
        }
      ]
    },
    {
      "cell_type": "code",
      "metadata": {
        "colab": {
          "base_uri": "https://localhost:8080/"
        },
        "id": "JEX5v8_9oFP6",
        "outputId": "506d21b4-e1ae-4701-d18d-7717c4b0dfbd"
      },
      "source": [
        "array_gerado[1:5]"
      ],
      "execution_count": null,
      "outputs": [
        {
          "output_type": "execute_result",
          "data": {
            "text/plain": [
              "array([2, 3, 4, 5])"
            ]
          },
          "metadata": {
            "tags": []
          },
          "execution_count": 47
        }
      ]
    },
    {
      "cell_type": "code",
      "metadata": {
        "id": "qAq_Ctr6qP03"
      },
      "source": [
        "#Faz o cálculo da média final e diz se o aluno foi aprovado, ficou de recuperação ou foi reprovado\n",
        "def media_final(notas):\n",
        "  soma = 0\n",
        "  for n in notas:\n",
        "    soma += n\n",
        "  media = soma / len(notas)\n",
        "  media = round(media, 2)\n",
        "\n",
        "  if media >= 7:\n",
        "    situacao = 'Aprovado'\n",
        "  elif media >= 6 and media < 7:\n",
        "    situacao = 'Recuperação'\n",
        "  else:\n",
        "    situacao = 'Reprovado'\n",
        "  return [media, situacao]"
      ],
      "execution_count": null,
      "outputs": []
    },
    {
      "cell_type": "code",
      "metadata": {
        "colab": {
          "base_uri": "https://localhost:8080/"
        },
        "id": "MdVd-tP7qP6O",
        "outputId": "389e7389-090e-4293-b898-f1e5feb2e5f9"
      },
      "source": [
        "notas = []\n",
        "alunos = []\n",
        "medias = []\n",
        "situacoes = []\n",
        "dic_alunos_aux = {}\n",
        "media_alunos = {}\n",
        "\n",
        "count = 0\n",
        "num = int(input('Digite a quantidade de alunos para cálculo da média:'))\n",
        "\n",
        "while(count < num):\n",
        "  aluno = input('Digite o nome do aluno:')\n",
        "  for i in range(0, 4):\n",
        "    notas.append(float(input('Digite sua nota {j}: '.format(j=i+1))))\n",
        "  dic_alunos_aux[count+1] = aluno, notas\n",
        "  resultado = media_final(notas)\n",
        "  alunos.append(aluno)\n",
        "  medias.append(resultado[0])\n",
        "  situacoes.append(resultado[1])\n",
        "  notas = []\n",
        "  count += 1\n",
        "\n",
        "relatorio = {\n",
        "    'Nome do aluno': alunos,\n",
        "    'Média final': medias,\n",
        "    'Situação do aluno': situacoes\n",
        "}"
      ],
      "execution_count": null,
      "outputs": [
        {
          "output_type": "stream",
          "text": [
            "Digite a quantidade de alunos para cálculo da média:1\n",
            "Digite o nome do aluno:joyce\n",
            "Digite sua nota 1: 10\n",
            "Digite sua nota 2: 10\n",
            "Digite sua nota 3: 10\n",
            "Digite sua nota 4: 10\n"
          ],
          "name": "stdout"
        }
      ]
    },
    {
      "cell_type": "code",
      "metadata": {
        "colab": {
          "base_uri": "https://localhost:8080/"
        },
        "id": "fu4GxoNKqQAj",
        "outputId": "f777be38-88c3-4c6c-ddad-a56904710030"
      },
      "source": [
        "relatorio"
      ],
      "execution_count": null,
      "outputs": [
        {
          "output_type": "execute_result",
          "data": {
            "text/plain": [
              "{'Média final': [10.0],\n",
              " 'Nome do aluno': ['joyce'],\n",
              " 'Situação do aluno': ['Aprovado']}"
            ]
          },
          "metadata": {
            "tags": []
          },
          "execution_count": 53
        }
      ]
    },
    {
      "cell_type": "code",
      "metadata": {
        "colab": {
          "base_uri": "https://localhost:8080/",
          "height": 77
        },
        "id": "kipjQnK1qQF-",
        "outputId": "210ecdc2-756b-4bce-b152-37256a43464c"
      },
      "source": [
        "import pandas as pd\n",
        "\n",
        "#Transforma o dicionário de relatório em um dataframe \n",
        "pd.DataFrame(relatorio)"
      ],
      "execution_count": null,
      "outputs": [
        {
          "output_type": "execute_result",
          "data": {
            "text/html": [
              "<div>\n",
              "<style scoped>\n",
              "    .dataframe tbody tr th:only-of-type {\n",
              "        vertical-align: middle;\n",
              "    }\n",
              "\n",
              "    .dataframe tbody tr th {\n",
              "        vertical-align: top;\n",
              "    }\n",
              "\n",
              "    .dataframe thead th {\n",
              "        text-align: right;\n",
              "    }\n",
              "</style>\n",
              "<table border=\"1\" class=\"dataframe\">\n",
              "  <thead>\n",
              "    <tr style=\"text-align: right;\">\n",
              "      <th></th>\n",
              "      <th>Nome do aluno</th>\n",
              "      <th>Média final</th>\n",
              "      <th>Situação do aluno</th>\n",
              "    </tr>\n",
              "  </thead>\n",
              "  <tbody>\n",
              "    <tr>\n",
              "      <th>0</th>\n",
              "      <td>joyce</td>\n",
              "      <td>10.0</td>\n",
              "      <td>Aprovado</td>\n",
              "    </tr>\n",
              "  </tbody>\n",
              "</table>\n",
              "</div>"
            ],
            "text/plain": [
              "  Nome do aluno  Média final Situação do aluno\n",
              "0         joyce         10.0          Aprovado"
            ]
          },
          "metadata": {
            "tags": []
          },
          "execution_count": 54
        }
      ]
    }
  ]
}